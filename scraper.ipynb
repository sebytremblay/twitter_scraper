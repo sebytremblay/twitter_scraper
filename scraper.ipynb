{
 "cells": [
  {
   "cell_type": "markdown",
   "metadata": {},
   "source": [
    "## Twitter Scraper"
   ]
  },
  {
   "cell_type": "code",
   "execution_count": null,
   "metadata": {},
   "outputs": [],
   "source": [
    "from twscrape import API, gather\n",
    "from utils import scraping as sc\n",
    "\n",
    "api = API()\n",
    "search_critieria = [\"$AMZN\", \"$AAPL\", \"$QQQ\", \"$NVDA\", \"$AMD\"]\n",
    "individual_save_location = \"./data/scraping/individual\"\n",
    "tweets = []\n",
    "\n",
    "for search in search_critieria:\n",
    "    # Searches for tweets containing the search term since 2024\n",
    "    query = f\"{search} since:2024-01-01\"\n",
    "    query_results = await gather(api.search(query, limit=10000))\n",
    "    \n",
    "    # Appends the results to the list of tweets\n",
    "    tweets.extend(query_results)\n",
    "    \n",
    "    # Saves the results to a file\n",
    "    sc.save_tweets(query_results, search, individual_save_location)\n",
    "    \n",
    "# Saves all the tweets to a centralized file\n",
    "sc.save_tweets(tweets, \"all\", \"./data/scraping\")"
   ]
  }
 ],
 "metadata": {
  "language_info": {
   "name": "python"
  }
 },
 "nbformat": 4,
 "nbformat_minor": 2
}
